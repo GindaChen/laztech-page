{
 "cells": [
  {
   "cell_type": "markdown",
   "metadata": {},
   "source": [
    "# Reduced Structure Function"
   ]
  },
  {
   "cell_type": "markdown",
   "metadata": {},
   "source": [
    "**Author**: Mike & Jinafu"
   ]
  },
  {
   "cell_type": "markdown",
   "metadata": {},
   "source": [
    "**Changes**\n",
    "1. Update Condition for Monte Carlo randomizer\n",
    "2. Update Condition to detect Magnetic Field"
   ]
  },
  {
   "cell_type": "markdown",
   "metadata": {},
   "source": [
    "**Description**\n",
    "A Monte Carlo way to calculate the structure Function.\n",
    "\n",
    "\n",
    "\n",
    "## **Motivation**\n",
    "\n",
    "Calculating Structure Function is always a headache.\n",
    "\n",
    "Typically, to calculate the structure function of a particular data, we will have an extremely high complexity.\n",
    "\n",
    "For example, in a 2D map, we need to select every point, and pair it with every other point in the plain. \n",
    "\n",
    "The complexity is $O(\\frac{N^2(N^2+1)}{2}) \\approx O(N^4)$, where $N$ is resolution in length. Say N = 792 in a 792x729 map, we will need at least 10min to calculate the function on a laptop.\n",
    "\n",
    "In 3D map it's even more dreadful: for each cube you will need ~ $O(N^6)$ to calculate the simple structure function.\n",
    "\n",
    "## **So, What can we do?**\n",
    "\n",
    "How about we **randomly select** some **seed-points $P=\\{p_1, p_2, ..., p_n\\}$** in the cube, and only calculate **for a certain radius $R = [r_\\min, r_\\max]$**, so that we can restrict the complexity and also get the approximate result we want?\n",
    "\n",
    "## **Concern**\n",
    "\n",
    "Q1. What if it's not accurate?\n",
    "\n",
    "A1. **Observe the result for a long time, and see if the result changes significantly.** No Monte Carlo algorithm is accurate. But think when you have a series of data very approximate with each other, then you can actually have an accurate upper bound and lower bound of the fluctuation of your result. What we're trying to do is to find good parameters so taht the radius and number of random seed points are chosen so that the result is note fluctuating. According to @Jianfu, when you choose `nRand = 50` and `R = 100`, the result is not significanlty change when you select different points. Since in a _stochastics environment_, when you have a data with its result fluctuate, you should be able to observe _a very big fluctuation_ when you do multiple experiments (say 100 experiments). **When you can't see this phenomenon under a certain set of parameters for a long time, you can assert that there is high chance that the structure function is stable, and the result we get is a good approximation to the original one.**\n",
    "\n",
    "\n",
    "\n",
    "## **The Idea of the Algorithm**\n",
    "\n",
    "1. Select a set of seed points $P=\\{p_1, p_2, ..., p_n\\}$\n",
    "2. Select a range of radius $R = [r_\\min, r_\\max]$\n",
    "3. For each point $p$ in the seed point set $P$, we do the following:\n",
    "    1. Pick every point $q = p + \\vec{r}$ on the plane/cube (so every $q$ point on the circle / the sphere) \n",
    "    2. Calculate `struct_function(p, q)` and store them\n",
    "4. Calculate the average value for each radius $R$. We get the result"
   ]
  },
  {
   "cell_type": "markdown",
   "metadata": {},
   "source": [
    "# The Code"
   ]
  },
  {
   "cell_type": "code",
   "execution_count": 2,
   "metadata": {},
   "outputs": [],
   "source": [
    "using PyCall, PyPlot"
   ]
  },
  {
   "cell_type": "code",
   "execution_count": 3,
   "metadata": {},
   "outputs": [
    {
     "data": {
      "text/plain": [
       "rand_out_struct3d (generic function with 1 method)"
      ]
     },
     "execution_count": 3,
     "metadata": {},
     "output_type": "execute_result"
    }
   ],
   "source": [
    "# @param\n",
    "#      A: 3dcube,  nx x ny x nz\n",
    "#  nRand: Int pick nRand points\n",
    "# @return\n",
    "#    SF: Vector, 1 x R\n",
    "\n",
    "\n",
    "function rand_out_struct3d(BX, BY, BZ, nRand, maxR)\n",
    "    @time begin\n",
    "        nx, ny, nz = size(BX);\n",
    "        SF  = zeros(3*maxR^2 + 1);\n",
    "        NF  = zeros(3*maxR^2 + 1);\n",
    "        # @@ Optimization? Can you find a integer boundary\n",
    "\n",
    "        # 1. Randomly pick points in A\n",
    "        # rx, ry, rz: random points in the cube\n",
    "        record = zeros(nx,ny,nz);\n",
    "        rx = zeros(Int64, nRand , 1)\n",
    "        ry = zeros(Int64, nRand , 1)\n",
    "        rz = zeros(Int64, nRand , 1)\n",
    "    end\n",
    "    \n",
    "    cnt = 1;\n",
    "    maxIteration = 3 * nRand;\n",
    "    @time while maxIteration > 0 && (cnt) <= nRand\n",
    "       maxIteration -= 1;\n",
    "       x = rand(1:nx)\n",
    "       y = rand(1:ny)\n",
    "       z = rand(1:nz)\n",
    "       if record[x,y,z] == 0\n",
    "          record[x,y,z] = 1\n",
    "           if -1 < BX[x,y,z]<1 || -1 < BY[x,y,z] < 1 || -1 < BZ[x,y,z] < 1\n",
    "               continue\n",
    "           end\n",
    "           rx[cnt] = x\n",
    "           ry[cnt] = y\n",
    "           rz[cnt] = z\n",
    "           cnt += 1\n",
    "        end\n",
    "    end\n",
    "    cnt -= 1\n",
    "    nRand = min(nRand, cnt);\n",
    "\n",
    "    # 2. For each point, calculate the cube\n",
    "    # [x-R: x+R, y-R:y+R, z-R:z+R] (have to modular)\n",
    "    @time for dx = -maxR:maxR, dy = -maxR:maxR, dz = -maxR:maxR\n",
    "\n",
    "        R2_pq = round(Int64, dx^2 + dy^2 + dz^2);\n",
    "        R = sqrt(R2_pq)\n",
    "        \n",
    "        \n",
    "        for i in 1:nRand\n",
    "            px, py, pz = rx[i], ry[i], rz[i];\n",
    "#             println(\"$px, $py, $pz\")\n",
    "            qx = mod(px+dx, nx) + 1;\n",
    "            qy = mod(py+dy, ny) + 1;\n",
    "            qz = mod(pz+dz, nz) + 1;\n",
    "            \n",
    "            if -1 < BX[qx,qy,qz]<1 || -1 < BY[qx,qy,qz] < 1 || -1 < BZ[qx,qy,qz] < 1\n",
    "                continue\n",
    "            end\n",
    "            dbx = BX[px,py,pz] - BX[qx,qy,qz];\n",
    "            dby = BY[px,py,pz] - BY[qx,qy,qz];\n",
    "            dbz = BZ[px,py,pz] - BZ[qx,qy,qz];\n",
    "                        \n",
    "            dbx = dbx * abs.(dx) / R\n",
    "            dby = dby * abs.(dy) / R\n",
    "            dbz = dbz * abs.(dz) / R\n",
    "            \n",
    "            SF[R2_pq+1] += dbx^2 + dby^2 + dbz^2;\n",
    "            NF[R2_pq+1] += 1;\n",
    "        \n",
    "        end\n",
    "    end\n",
    "    \n",
    "    return SF, NF\n",
    "end\n",
    "\n",
    "\n"
   ]
  },
  {
   "cell_type": "markdown",
   "metadata": {},
   "source": [
    "## Test Script"
   ]
  },
  {
   "cell_type": "code",
   "execution_count": 6,
   "metadata": {},
   "outputs": [
    {
     "name": "stdout",
     "output_type": "stream",
     "text": [
      "  0.242395 seconds (10 allocations: 183.106 MiB, 64.05% gc time)\n"
     ]
    }
   ],
   "source": [
    "# function rand_out_struct3d(BX, BY, BZ, nRand, maxR)\n",
    "N = 200;\n",
    "@time BX = rand(N,N,N) * 10 - 5;\n",
    "BY = rand(N,N,N) * 10 - 5;\n",
    "BZ = rand(N,N,N) * 10 - 5;"
   ]
  },
  {
   "cell_type": "code",
   "execution_count": 7,
   "metadata": {},
   "outputs": [
    {
     "name": "stdout",
     "output_type": "stream",
     "text": [
      "  0.123498 seconds (9 allocations: 61.077 MiB, 89.40% gc time)\n",
      "  0.000015 seconds\n",
      "  0.713890 seconds\n",
      "  0.838572 seconds (1.46 k allocations: 61.131 MiB, 13.17% gc time)\n"
     ]
    },
    {
     "data": {
      "text/plain": [
       "([NaN, 1762.8, 3173.62, 1792.02, 1489.15, 6686.77, 7014.45, 0.0, 3619.43, 8364.94  …  0.0, 0.0, 0.0, 0.0, 0.0, 0.0, 0.0, 0.0, 0.0, 1958.43], [15.0, 90.0, 180.0, 120.0, 90.0, 360.0, 360.0, 0.0, 180.0, 450.0  …  0.0, 0.0, 0.0, 0.0, 0.0, 0.0, 0.0, 0.0, 0.0, 120.0])"
      ]
     },
     "execution_count": 7,
     "metadata": {},
     "output_type": "execute_result"
    }
   ],
   "source": [
    "nRand = 15;\n",
    "maxR = 30;\n",
    "@time SF3d, NF = rand_out_struct3d(BX, BY, BZ, nRand, maxR)"
   ]
  },
  {
   "cell_type": "code",
   "execution_count": null,
   "metadata": {},
   "outputs": [],
   "source": [
    "# @time x = sqrt.(1:3*maxR^2+1);\n",
    "# plot(x,SF3d./NF)"
   ]
  }
 ],
 "metadata": {
  "kernelspec": {
   "display_name": "Julia 0.6.2",
   "language": "julia",
   "name": "julia-0.6"
  },
  "language_info": {
   "file_extension": ".jl",
   "mimetype": "application/julia",
   "name": "julia",
   "version": "0.6.4"
  }
 },
 "nbformat": 4,
 "nbformat_minor": 2
}
